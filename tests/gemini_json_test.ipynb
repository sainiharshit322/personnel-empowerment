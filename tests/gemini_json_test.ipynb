{
  "cells": [
    {
      "cell_type": "markdown",
      "metadata": {
        "id": "RVpw9Sz6TCwG"
      },
      "source": [
        "# Setup\n",
        "\n",
        "Please ensure you have imported a Gemini API key from AI Studio.\n",
        "You can do this directly in the Secrets tab on the left.\n",
        "\n",
        "After doing so, please run the setup cell below."
      ]
    },
    {
      "cell_type": "code",
      "execution_count": null,
      "metadata": {
        "id": "B01Xg_S1TCwH"
      },
      "outputs": [],
      "source": [
        "!pip install -U -q \"google\"\n",
        "!pip install -U -q \"google.genai\"\n",
        "\n",
        "import os\n",
        "from google.colab import userdata\n",
        "from google.colab import drive\n",
        "from dotenv  import load_dotenv\n",
        "\n",
        "load_dotenv()\n",
        "os.environ[\"GEMINI_API_KEY\"] = os.getenv(\"GEMINI_API_KEY\")"
      ]
    },
    {
      "cell_type": "markdown",
      "metadata": {
        "id": "CD1Un3qqTCwH"
      },
      "source": [
        "# Generated Code"
      ]
    },
    {
      "cell_type": "code",
      "execution_count": 1,
      "metadata": {
        "id": "xBFkqsc5TCwH"
      },
      "outputs": [],
      "source": [
        "# To run this code you need to install the following dependencies:\n",
        "# pip install google-genai\n",
        "\n",
        "import base64\n",
        "import os\n",
        "from google import genai\n",
        "from google.genai import types\n",
        "\n",
        "\n",
        "def generate():\n",
        "    client = genai.Client(\n",
        "        api_key=os.environ.get(\"GEMINI_API_KEY\"),\n",
        "    )\n",
        "\n",
        "    model = \"gemini-2.0-flash-lite\"\n",
        "    num = 3\n",
        "    contents = [\n",
        "        types.Content(\n",
        "            role=\"user\",\n",
        "            parts=[\n",
        "                types.Part.from_text(text=f\"\"\"Generate {num} employee engagement question. The question should focus on employee Engagement Surveys, Manager/Team lead Feedback, Culture Assessment, Goal Alignment.\n",
        "\n",
        "Examples of Quesitons:\n",
        "\n",
        "How likely is it that you would recommend xyz as a place to work?\n",
        "My direct manager/supervisor/leader cares about my opinions.\n",
        "I’m inspired by the purpose and mission of our organization.\n",
        "The overall business goals and strategies set by xyz are taking us in the right direction.\n",
        "The demands of my workload are manageable.\n",
        "I understand how my work supports the goals and objectives of my team.\n",
        "People from all backgrounds are treated fairly at xyz.\n",
        "A diverse workforce is a clear priority at xyz (for example, in terms of gender, ethnicity, disability).\n",
        "Team member health and wellbeing is a priority at xyz.\n",
        "I understand how xyz sustainability efforts contribute to positive outcomes for the environment, our communities, and stakeholders.\n",
        "xyz provides AI-upskilling to enhance my productivity\n",
        "I’m satisfied with the steps xyz is taking to reduce its environmental impact\"\"\"),\n",
        "            ],\n",
        "        ),\n",
        "    ]\n",
        "    generate_content_config = types.GenerateContentConfig(\n",
        "        response_mime_type=\"application/json\",\n",
        "        response_schema=genai.types.Schema(\n",
        "            type = genai.types.Type.OBJECT,\n",
        "            properties = {\n",
        "                \"response\": genai.types.Schema(\n",
        "                    type = genai.types.Type.ARRAY,\n",
        "                    items = genai.types.Schema(\n",
        "                        type = genai.types.Type.STRING,\n",
        "                    ),\n",
        "                ),\n",
        "            },\n",
        "        ),\n",
        "    )\n",
        "\n",
        "    response_text = \"\"\n",
        "    for chunk in client.models.generate_content_stream(\n",
        "        model=model,\n",
        "        contents=contents,\n",
        "        config=generate_content_config,\n",
        "    ):\n",
        "        response_text += chunk.text\n",
        "    return eval(response_text)\n",
        "\n",
        "if __name__ == \"__main__\":\n",
        "    generate()"
      ]
    },
    {
      "cell_type": "code",
      "execution_count": 3,
      "metadata": {},
      "outputs": [
        {
          "name": "stdout",
          "output_type": "stream",
          "text": [
            "{'response': ['I feel comfortable sharing my ideas and suggestions with my manager.', 'My team lead provides me with constructive feedback to help me improve.', 'I believe that xyz fosters a culture of innovation and collaboration.']}\n"
          ]
        }
      ],
      "source": [
        "print(generate())"
      ]
    },
    {
      "cell_type": "code",
      "execution_count": 2,
      "metadata": {
        "colab": {
          "base_uri": "https://localhost:8080/"
        },
        "id": "MyyiM7-LUCDZ",
        "outputId": "0af1430b-f422-4ca3-e24a-e36d725a8bd6"
      },
      "outputs": [
        {
          "name": "stdout",
          "output_type": "stream",
          "text": [
            "My direct manager/supervisor/leader provides me with regular and constructive feedback.\n"
          ]
        }
      ],
      "source": [
        "print(generate()[\"response\"][0])"
      ]
    },
    {
      "cell_type": "code",
      "execution_count": 11,
      "metadata": {
        "colab": {
          "base_uri": "https://localhost:8080/"
        },
        "id": "Ax2PrOIVUggT",
        "outputId": "f283cf31-2804-40e1-ef44-9c7be3f68072"
      },
      "outputs": [
        {
          "name": "stdout",
          "output_type": "stream",
          "text": [
            "I have the resources I need to do my job effectively.\n"
          ]
        }
      ],
      "source": [
        "print(generate()[\"response\"][9])"
      ]
    }
  ],
  "metadata": {
    "colab": {
      "provenance": []
    },
    "kernelspec": {
      "display_name": "base",
      "language": "python",
      "name": "python3"
    },
    "language_info": {
      "codemirror_mode": {
        "name": "ipython",
        "version": 3
      },
      "file_extension": ".py",
      "mimetype": "text/x-python",
      "name": "python",
      "nbconvert_exporter": "python",
      "pygments_lexer": "ipython3",
      "version": "3.12.7"
    }
  },
  "nbformat": 4,
  "nbformat_minor": 0
}
