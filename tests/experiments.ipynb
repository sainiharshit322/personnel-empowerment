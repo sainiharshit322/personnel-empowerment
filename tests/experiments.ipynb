{
 "cells": [
  {
   "cell_type": "code",
   "execution_count": 2,
   "id": "996e2bc0",
   "metadata": {},
   "outputs": [],
   "source": [
    "data = {'response': ['How satisfied are you with the feedback you receive from your manager/team lead at TSR Corporation?', 'Does your manager/team lead at TSR Corporation provide you with clear expectations regarding your role and responsibilities?', \"How well do you believe TSR Corporation's culture supports employee collaboration and teamwork?\", 'Do you feel that your individual goals are aligned with the overall goals of TSR Corporation?', \"How clearly are TSR Corporation's values communicated and demonstrated by leadership?\", 'To what extent do you feel valued and appreciated for your contributions at TSR Corporation?', 'Are you satisfied with the opportunities for professional development and growth provided by TSR Corporation?', 'How effectively does TSR Corporation communicate important information to its employees?', 'Do you feel a sense of belonging and inclusion within your team at TSR Corporation?', \"How confident are you in TSR Corporation's future success?\"]}"
   ]
  },
  {
   "cell_type": "code",
   "execution_count": 8,
   "id": "efb8d166",
   "metadata": {},
   "outputs": [
    {
     "name": "stdout",
     "output_type": "stream",
     "text": [
      "How satisfied are you with the feedback you receive from your manager/team lead at TSR Corporation?\n",
      "Does your manager/team lead at TSR Corporation provide you with clear expectations regarding your role and responsibilities?\n",
      "How well do you believe TSR Corporation's culture supports employee collaboration and teamwork?\n",
      "Do you feel that your individual goals are aligned with the overall goals of TSR Corporation?\n",
      "How clearly are TSR Corporation's values communicated and demonstrated by leadership?\n",
      "To what extent do you feel valued and appreciated for your contributions at TSR Corporation?\n",
      "Are you satisfied with the opportunities for professional development and growth provided by TSR Corporation?\n",
      "How effectively does TSR Corporation communicate important information to its employees?\n",
      "Do you feel a sense of belonging and inclusion within your team at TSR Corporation?\n",
      "How confident are you in TSR Corporation's future success?\n"
     ]
    }
   ],
   "source": [
    "for i in range(len(data['response'])):\n",
    "    s = data['response'][i]\n",
    "    print(s)"
   ]
  },
  {
   "cell_type": "code",
   "execution_count": null,
   "id": "45a7719f",
   "metadata": {},
   "outputs": [
    {
     "name": "stdout",
     "output_type": "stream",
     "text": [
      "[0, 1, 1]\n"
     ]
    }
   ],
   "source": [
    "analysis = [{'label': 'NEGATIVE', 'score': 0.9967485666275024}, {'label': 'POSITIVE', 'score': 0.9997261166572571}, {'label': 'POSITIVE', 'score': 0.9998520612716675}]\n",
    "\n",
    "record = []\n",
    "\n",
    "for i in range(len(analysis)):\n",
    "    label = analysis[i]['label']\n",
    "    if label == 'NEGATIVE':\n",
    "        record.append(0)\n",
    "    elif label == 'POSITIVE':\n",
    "        record.append(1)\n",
    "\n",
    "print(record)"
   ]
  },
  {
   "cell_type": "code",
   "execution_count": 5,
   "id": "a635e491",
   "metadata": {},
   "outputs": [
    {
     "name": "stdout",
     "output_type": "stream",
     "text": [
      "Sentiment Analysis Results:\n",
      "Positive: 1\n",
      "Negative: 2\n",
      "Neutral: 0\n",
      "Total Responses with Sentiment: 3\n"
     ]
    }
   ],
   "source": [
    "import transformers\n",
    "from transformers import pipeline\n",
    "import os\n",
    "\n",
    "def get_sentiment(text):\n",
    "    #Set to avoid warning messages.\n",
    "    transformers.logging.set_verbosity_error()\n",
    "    sentiment_classifier = pipeline(task=\"sentiment-analysis\",\n",
    "                                    model=\"finiteautomata/bertweet-base-sentiment-analysis\")\n",
    "\n",
    "    cache_dir = os.path.expanduser('~') + \"/.cache/huggingface/hub\"\n",
    "\n",
    "    return sentiment_classifier(text)\n",
    "\n",
    "all_answers = [\n",
    "    \"I love this product!\",\n",
    "    \"This is the worst experience I've ever had.\",\n",
    "    \"It's okay, not great but not terrible.\"\n",
    "]\n",
    "\n",
    "positive_count = 0\n",
    "negative_count = 0\n",
    "neutral_count = 0\n",
    "total_responses_with_sentiment = 0\n",
    "\n",
    "try:\n",
    "    sentiment_results = get_sentiment(all_answers)\n",
    "    for result in sentiment_results:\n",
    "        label = result.get('label', 'NEU')\n",
    "        if label == 'POS':\n",
    "            positive_count += 1\n",
    "        elif label == 'NEG':\n",
    "            negative_count += 1\n",
    "        else:\n",
    "            neutral_count += 1\n",
    "    total_responses_with_sentiment = len(sentiment_results)\n",
    "\n",
    "except Exception as e:\n",
    "    print(f'Error analyzing sentiment: {e}')\n",
    "    neutral_count = len(all_answers)\n",
    "    total_responses_with_sentiment = len(all_answers)\n",
    "\n",
    "print(\"Sentiment Analysis Results:\")\n",
    "print(f\"Positive: {positive_count}\")\n",
    "print(f\"Negative: {negative_count}\")\n",
    "print(f\"Neutral: {neutral_count}\")\n",
    "print(f\"Total Responses with Sentiment: {total_responses_with_sentiment}\")"
   ]
  },
  {
   "cell_type": "code",
   "execution_count": 16,
   "id": "6e460980",
   "metadata": {},
   "outputs": [],
   "source": [
    "all_surveys = {\"surveys\": [\n",
    "    {\n",
    "      \"surveyId\": \"survey_1756443933343_iehp5yb\",\n",
    "      \"completedAt\": \"2025-08-29T05:05:33.343Z\",\n",
    "      \"totalQuestions\": 3,\n",
    "      \"responses\": [\n",
    "        {\n",
    "          \"questionNumber\": 1,\n",
    "          \"question\": \"How satisfied are you with your current work-life balance?\",\n",
    "          \"answer\": \"I'm very satisfied. I feel like I have enough time outside of work to recharge, spend time with family, and pursue personal interests. It's been a good balance.\",\n",
    "          \"timestamp\": \"2025-08-29T05:05:05.905Z\",\n",
    "          \"SentiAnalysis\": {\n",
    "            \"label\": \"POS\",\n",
    "            \"score\": 0.992,\n",
    "            \"confidence\": 99.2\n",
    "          }\n",
    "        },\n",
    "        {\n",
    "          \"questionNumber\": 2,\n",
    "          \"question\": \"How would you rate the communication from your immediate supervisor?\",\n",
    "          \"answer\": \"It's okay. Some weeks are more balanced than others. I sometimes work late, but I can usually make up for it by taking time off or having lighter days later.\",\n",
    "          \"timestamp\": \"2025-08-29T05:05:27.284Z\",\n",
    "          \"SentiAnalysis\": {\n",
    "            \"label\": \"POS\",\n",
    "            \"score\": 0.815,\n",
    "            \"confidence\": 81.5\n",
    "          }\n",
    "        },\n",
    "        {\n",
    "          \"questionNumber\": 3,\n",
    "          \"question\": \"Do you feel your workload is manageable and reasonable?\",\n",
    "          \"answer\": \"I'm not very satisfied. I often feel like work spills into my personal time, especially during busy periods. It's been hard to fully disconnect.\",\n",
    "          \"timestamp\": \"2025-08-29T05:05:33.343Z\",\n",
    "          \"SentiAnalysis\": {\n",
    "            \"label\": \"NEG\",\n",
    "            \"score\": 0.972,\n",
    "            \"confidence\": 97.2\n",
    "          }\n",
    "        }\n",
    "      ]\n",
    "    },\n",
    "    {\n",
    "      \"surveyId\": \"survey_1756444013870_s56cgmv\",\n",
    "      \"completedAt\": \"2025-08-29T05:06:53.870Z\",\n",
    "      \"totalQuestions\": 3,\n",
    "      \"responses\": [\n",
    "        {\n",
    "          \"questionNumber\": 1,\n",
    "          \"question\": \"How satisfied are you with your current work-life balance?\",\n",
    "          \"answer\": \"I'd rate it highly. My supervisor is clear, responsive, and always makes time to check in with the team. Expectations are communicated well.\",\n",
    "          \"timestamp\": \"2025-08-29T05:06:44.450Z\",\n",
    "          \"SentiAnalysis\": {\n",
    "            \"label\": \"POS\",\n",
    "            \"score\": 0.992,\n",
    "            \"confidence\": 99.2\n",
    "          }\n",
    "        },\n",
    "        {\n",
    "          \"questionNumber\": 2,\n",
    "          \"question\": \"How would you rate the communication from your immediate supervisor?\",\n",
    "          \"answer\": \"I'd rate it highly. My supervisor is clear, responsive, and always makes time to check in with the team. Expectations are communicated well.\",\n",
    "          \"timestamp\": \"2025-08-29T05:06:45.602Z\",\n",
    "          \"SentiAnalysis\": {\n",
    "            \"label\": \"POS\",\n",
    "            \"score\": 0.992,\n",
    "            \"confidence\": 99.2\n",
    "          }\n",
    "        },\n",
    "        {\n",
    "          \"questionNumber\": 3,\n",
    "          \"question\": \"Do you feel your workload is manageable and reasonable?\",\n",
    "          \"answer\": \"I think communication is decent, but there's room for improvement. Sometimes I feel out of the loop or unclear on priorities until the last minute.\",\n",
    "          \"timestamp\": \"2025-08-29T05:06:53.870Z\",\n",
    "          \"SentiAnalysis\": {\n",
    "            \"label\": \"NEU\",\n",
    "            \"score\": 0.892,\n",
    "            \"confidence\": 89.2\n",
    "          }\n",
    "        }\n",
    "      ]\n",
    "    },\n",
    "    {\n",
    "      \"surveyId\": \"survey_1756444036222_4uz2mu5\",\n",
    "      \"completedAt\": \"2025-08-29T05:07:16.222Z\",\n",
    "      \"totalQuestions\": 3,\n",
    "      \"responses\": [\n",
    "        {\n",
    "          \"questionNumber\": 1,\n",
    "          \"question\": \"How satisfied are you with your current work-life balance?\",\n",
    "          \"answer\": \"Yes, my workload feels manageable. I can complete tasks within working hours and still maintain a high level of quality and productivity.\",\n",
    "          \"timestamp\": \"2025-08-29T05:07:07.995Z\",\n",
    "          \"SentiAnalysis\": {\n",
    "            \"label\": \"POS\",\n",
    "            \"score\": 0.987,\n",
    "            \"confidence\": 98.7\n",
    "          }\n",
    "        },\n",
    "        {\n",
    "          \"questionNumber\": 2,\n",
    "          \"question\": \"How would you rate the communication from your immediate supervisor?\",\n",
    "          \"answer\": \"Not really. I often feel overloaded and struggle to keep up. It\\u2019s hard to manage expectations with the current volume of work I have.\",\n",
    "          \"timestamp\": \"2025-08-29T05:07:14.707Z\",\n",
    "          \"SentiAnalysis\": {\n",
    "            \"label\": \"NEG\",\n",
    "            \"score\": 0.855,\n",
    "            \"confidence\": 85.5\n",
    "          }\n",
    "        },\n",
    "        {\n",
    "          \"questionNumber\": 3,\n",
    "          \"question\": \"Do you feel your workload is manageable and reasonable?\",\n",
    "          \"answer\": \"Not really. I often feel overloaded and struggle to keep up. It\\u2019s hard to manage expectations with the current volume of work I have.\",\n",
    "          \"timestamp\": \"2025-08-29T05:07:16.222Z\",\n",
    "          \"SentiAnalysis\": {\n",
    "            \"label\": \"NEG\",\n",
    "            \"score\": 0.855,\n",
    "            \"confidence\": 85.5\n",
    "          }\n",
    "        }\n",
    "      ]\n",
    "    }\n",
    "  ]\n",
    "}"
   ]
  },
  {
   "cell_type": "code",
   "execution_count": 20,
   "id": "c622306b",
   "metadata": {},
   "outputs": [
    {
     "name": "stdout",
     "output_type": "stream",
     "text": [
      "Sentiment Analysis Results:\n",
      "Positive: 11\n",
      "Negative: 8\n",
      "Neutral: 2\n",
      "Total Responses with Sentiment: 9\n"
     ]
    }
   ],
   "source": [
    "if total_responses_with_sentiment == 0:\n",
    "    print(\"No pre-computed sentiment found, performing real-time analysis...\")\n",
    "    all_answers = []\n",
    "    for survey in all_surveys.get('surveys', []):\n",
    "        for response in survey.get('responses', []):\n",
    "            all_answers.append(response.get('answer', ''))\n",
    "    \n",
    "    if all_answers:\n",
    "        try:\n",
    "            sentiment_results = get_sentiment(all_answers)\n",
    "            for result in sentiment_results:\n",
    "                label = result.get('label', 'NEU')\n",
    "                if label == 'POS':\n",
    "                    positive_count += 1\n",
    "                elif label == 'NEG':\n",
    "                    negative_count += 1\n",
    "                else:\n",
    "                    neutral_count += 1\n",
    "            total_responses_with_sentiment = len(sentiment_results)\n",
    "        except Exception as e:\n",
    "            print(f'Error analyzing sentiment: {e}')\n",
    "            neutral_count = len(all_answers)\n",
    "            total_responses_with_sentiment = len(all_answers)\n",
    "\n",
    "print(f\"Sentiment Analysis Results:\")\n",
    "print(f\"Positive: {positive_count}\")\n",
    "print(f\"Negative: {negative_count}\")\n",
    "print(f\"Neutral: {neutral_count}\")\n",
    "print(f\"Total Responses with Sentiment: {total_responses_with_sentiment}\")"
   ]
  },
  {
   "cell_type": "code",
   "execution_count": 18,
   "id": "93c296ce",
   "metadata": {},
   "outputs": [
    {
     "data": {
      "text/plain": [
       "3"
      ]
     },
     "execution_count": 18,
     "metadata": {},
     "output_type": "execute_result"
    }
   ],
   "source": [
    "len(all_surveys['surveys'])  # IGNORE"
   ]
  },
  {
   "cell_type": "code",
   "execution_count": 19,
   "id": "f55105d4",
   "metadata": {},
   "outputs": [
    {
     "name": "stdout",
     "output_type": "stream",
     "text": [
      "Question Sentiment Analysis Results:\n",
      "Question: How satisfied are you with your current work-life balance?\n",
      "  Positive: 0\n",
      "  Negative: 0\n",
      "  Neutral: 0\n",
      "  Total Responses: 0\n",
      "Question: How would you rate the communication from your immediate supervisor?\n",
      "  Positive: 0\n",
      "  Negative: 0\n",
      "  Neutral: 0\n",
      "  Total Responses: 0\n",
      "Question: Do you feel your workload is manageable and reasonable?\n",
      "  Positive: 0\n",
      "  Negative: 0\n",
      "  Neutral: 0\n",
      "  Total Responses: 0\n"
     ]
    }
   ],
   "source": [
    "question_sentiment = {}\n",
    "question_counts = {}\n",
    "\n",
    "for survey in all_surveys.get('surveys', []):\n",
    "    for response in survey.get('responses', []):\n",
    "        question = response.get('question', 'Unknown')\n",
    "        answer = response.get('answer', '')\n",
    "        \n",
    "        # Count questions\n",
    "        question_counts[question] = question_counts.get(question, 0) + 1\n",
    "        \n",
    "        # Initialize question sentiment tracking\n",
    "        if question not in question_sentiment:\n",
    "            question_sentiment[question] = {\n",
    "                'positive': 0,\n",
    "                'negative': 0,\n",
    "                'neutral': 0,\n",
    "                'total': 0\n",
    "            }\n",
    "\n",
    "print(\"Question Sentiment Analysis Results:\")\n",
    "for question, sentiment in question_sentiment.items():\n",
    "    print(f\"Question: {question}\")\n",
    "    print(f\"  Positive: {sentiment['positive']}\")\n",
    "    print(f\"  Negative: {sentiment['negative']}\")\n",
    "    print(f\"  Neutral: {sentiment['neutral']}\")\n",
    "    print(f\"  Total Responses: {sentiment['total']}\")"
   ]
  },
  {
   "cell_type": "code",
   "execution_count": null,
   "id": "2e453036",
   "metadata": {},
   "outputs": [],
   "source": [
    "\n",
    "\n",
    "survey_data = request.get_json()\n",
    "\n",
    "# Perform sentiment analysis on each response\n",
    "answers = []\n",
    "for response in survey_data.get('responses', []):\n",
    "    answer = response.get('answer', '')\n",
    "    if answer.strip():  # Only analyze non-empty answers\n",
    "        answers.append(answer)"
   ]
  },
  {
   "cell_type": "code",
   "execution_count": 2,
   "id": "1ced72f7",
   "metadata": {},
   "outputs": [
    {
     "data": {
      "image/png": "[encoded data removed]",
      "text/plain": [
       "<Figure size 640x480 with 1 Axes>"
      ]
     },
     "metadata": {},
     "output_type": "display_data"
    }
   ],
   "source": [
    "import matplotlib.pyplot as plt\n",
    "\n",
    "data = [1, 1, 0, 2, 1, 1, 1, 1]\n",
    "\n",
    "plt.plot(data)\n",
    "plt.show()"
   ]
  },
  {
   "cell_type": "code",
   "execution_count": null,
   "id": "2ae622ff",
   "metadata": {},
   "outputs": [],
   "source": [
    "(\"<p class='sentiment-value'>98.3%</p>\",\n",
    " \"<p class='sentiment-value'>1.6%</p>\",\n",
    " \"<p class='sentiment-value'>0.1%</p>\")"
   ]
  },
  {
   "cell_type": "code",
   "execution_count": 4,
   "id": "f9970a42",
   "metadata": {},
   "outputs": [
    {
     "data": {
      "text/plain": [
       "{'label': 'NEGATIVE', 'score': 0.9911893606185913}"
      ]
     },
     "execution_count": 4,
     "metadata": {},
     "output_type": "execute_result"
    }
   ],
   "source": [
    "{'label': 'NEGATIVE', 'score': 0.9911893606185913}"
   ]
  },
  {
   "cell_type": "code",
   "execution_count": 38,
   "id": "5d71fd7c",
   "metadata": {},
   "outputs": [
    {
     "name": "stdout",
     "output_type": "stream",
     "text": [
      "Loaded as API: https://im-tsr-sentiment-analysis.hf.space ✔\n"
     ]
    },
    {
     "data": {
      "text/plain": [
       "('NEGATIVE', 99.3)"
      ]
     },
     "execution_count": 38,
     "metadata": {},
     "output_type": "execute_result"
    }
   ],
   "source": [
    "from gradio_client import Client\n",
    "\n",
    "def analyze_sentiment(text):\n",
    "    client = Client(\"im-tsr/sentiment-analysis\")\n",
    "    result = client.predict(\n",
    "            text=text,\n",
    "            api_name=\"/process_sentiment\"\n",
    "    )\n",
    "\n",
    "    pos = result[0].split('>')[1].split('%')[0]\n",
    "    neg = result[1].split('>')[1].split('%')[0]\n",
    "    neu = result[2].split('>')[1].split('%')[0]\n",
    "\n",
    "    sentiment_dict = {\"POSITIVE\": float(pos), \"NEUTRAL\": float(neg), \"NEGATIVE\": float(neu)}\n",
    "\n",
    "    return max(sentiment_dict.items(), key=lambda x: x[1])\n",
    "\n",
    "analyze_sentiment(\"This is a very bad video\")"
   ]
  },
  {
   "cell_type": "code",
   "execution_count": 25,
   "id": "1c620735",
   "metadata": {},
   "outputs": [],
   "source": [
    "test_api = (\"<p class='sentiment-value'>98.3%</p>\",\n",
    " \"<p class='sentiment-value'>1.6%</p>\",\n",
    " \"<p class='sentiment-value'>0.1%</p>\")"
   ]
  },
  {
   "cell_type": "code",
   "execution_count": 31,
   "id": "55d765db",
   "metadata": {},
   "outputs": [],
   "source": [
    "test_api2 = (\"<p class='sentiment-value'>0.1%</p>\",\n",
    " \"<p class='sentiment-value'>0.2%</p>\",\n",
    " \"<p class='sentiment-value'>99.7%</p>\")"
   ]
  },
  {
   "cell_type": "code",
   "execution_count": 37,
   "id": "d9ab7ff1",
   "metadata": {},
   "outputs": [
    {
     "data": {
      "text/plain": [
       "('NEGATIVE', 99.7)"
      ]
     },
     "execution_count": 37,
     "metadata": {},
     "output_type": "execute_result"
    }
   ],
   "source": [
    "pos = test_api2[0].split('>')[1].split('%')[0]\n",
    "neg = test_api2[1].split('>')[1].split('%')[0]\n",
    "neu = test_api2[2].split('>')[1].split('%')[0]\n",
    "\n",
    "sentiment_dict = {\"POSITIVE\": float(pos), \"NEUTRAL\": float(neg), \"NEGATIVE\": float(neu)}\n",
    "\n",
    "max(sentiment_dict.items(), key=lambda x: x[1])"
   ]
  },
  {
   "cell_type": "code",
   "execution_count": 22,
   "id": "3aa3552d",
   "metadata": {},
   "outputs": [
    {
     "name": "stdout",
     "output_type": "stream",
     "text": [
      "Label: NEUTRAL, Score: 50\n"
     ]
    }
   ],
   "source": [
    "sentiment_dict = {\"POSITIVE\": 20, \"NEGATIVE\": 30, \"NEUTRAL\": 50}\n",
    "max_sentiment = max(sentiment_dict.items(), key=lambda x: x[1])\n",
    "print(f\"Label: {max_sentiment[0]}, Score: {max_sentiment[1]}\")"
   ]
  },
  {
   "cell_type": "code",
   "execution_count": 5,
   "id": "5e5cb715",
   "metadata": {},
   "outputs": [],
   "source": [
    "pos = test_api[0].split('>')[1].split('%')[0]\n",
    "neg = test_api[1].split('>')[1].split('%')[0]\n",
    "neu = test_api[2].split('>')[1].split('%')[0]\n",
    "\n",
    "test_highest = max(f\"Positive, {pos}\", f\"Negative, {neg}\", f\"Neutral, {neu}\")\n",
    "\n",
    "# {'label': test_highest.split(', ')[0].upper(), 'score': float(test_highest.split(', ')[1])}"
   ]
  },
  {
   "cell_type": "code",
   "execution_count": 6,
   "id": "e8f1c333",
   "metadata": {},
   "outputs": [
    {
     "data": {
      "text/plain": [
       "'Positive, 98.3'"
      ]
     },
     "execution_count": 6,
     "metadata": {},
     "output_type": "execute_result"
    }
   ],
   "source": [
    "test_highest"
   ]
  },
  {
   "cell_type": "code",
   "execution_count": 26,
   "id": "4973b3d3",
   "metadata": {},
   "outputs": [
    {
     "data": {
      "text/plain": [
       "'POSITIVE'"
      ]
     },
     "execution_count": 26,
     "metadata": {},
     "output_type": "execute_result"
    }
   ],
   "source": [
    "s = 'positive'\n",
    "\n",
    "s.upper()"
   ]
  },
  {
   "cell_type": "code",
   "execution_count": 10,
   "id": "c9c6c22d",
   "metadata": {},
   "outputs": [
    {
     "name": "stdout",
     "output_type": "stream",
     "text": [
      "Loaded as API: https://im-tsr-sentiment-analysis.hf.space ✔\n"
     ]
    },
    {
     "data": {
      "text/plain": [
       "(\"<p class='sentiment-value'>0.1%</p>\",\n",
       " \"<p class='sentiment-value'>0.2%</p>\",\n",
       " \"<p class='sentiment-value'>99.7%</p>\")"
      ]
     },
     "execution_count": 10,
     "metadata": {},
     "output_type": "execute_result"
    }
   ],
   "source": [
    "from gradio_client import Client\n",
    "\n",
    "def analyze_sentiment(text):\n",
    "    client = Client(\"im-tsr/sentiment-analysis\")\n",
    "    result = client.predict(\n",
    "            text=text,\n",
    "            api_name=\"/process_sentiment\"\n",
    "    )\n",
    "\n",
    "    return result\n",
    "\n",
    "analyze_sentiment(\"This is a very trash video\")"
   ]
  }
 ],
 "metadata": {
  "kernelspec": {
   "display_name": "torch",
   "language": "python",
   "name": "python3"
  },
  "language_info": {
   "codemirror_mode": {
    "name": "ipython",
    "version": 3
   },
   "file_extension": ".py",
   "mimetype": "text/x-python",
   "name": "python",
   "nbconvert_exporter": "python",
   "pygments_lexer": "ipython3",
   "version": "3.12.0"
  }
 },
 "nbformat": 4,
 "nbformat_minor": 5
}
