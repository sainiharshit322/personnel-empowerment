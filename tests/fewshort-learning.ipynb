{
 "cells": [
  {
   "cell_type": "code",
   "execution_count": null,
   "id": "2e23fbbf",
   "metadata": {
    "vscode": {
     "languageId": "plaintext"
    }
   },
   "outputs": [],
   "source": [
    "training_examples = [\n",
    "    {\n",
    "        \"prompt\": \"Generate an employee engagement question about company recommendation.\",\n",
    "        \"response\": \"How likely is it that you would recommend our company as a place to work?\"\n",
    "    },\n",
    "    {\n",
    "        \"prompt\": \"Generate an employee engagement question about manager feedback.\",\n",
    "        \"response\": \"My direct manager/supervisor/leader cares about my opinions.\"\n",
    "    },\n",
    "    {\n",
    "        \"prompt\": \"Generate an employee engagement question about organizational mission.\",\n",
    "        \"response\": \"I'm inspired by the purpose and mission of our organization.\"\n",
    "    },\n",
    "    {\n",
    "        \"prompt\": \"Generate an employee engagement question about business strategy.\",\n",
    "        \"response\": \"The overall business goals and strategies set by our company are taking us in the right direction.\"\n",
    "    },\n",
    "    {\n",
    "        \"prompt\": \"Generate an employee engagement question about career development.\",\n",
    "        \"response\": \"I have adequate opportunities for professional growth and development at our company.\"\n",
    "    },\n",
    "    {\n",
    "        \"prompt\": \"Generate an employee engagement question about work-life balance.\",\n",
    "        \"response\": \"I am able to maintain a healthy balance between my work and personal life.\"\n",
    "    },\n",
    "    {\n",
    "        \"prompt\": \"Generate an employee engagement question about team collaboration.\",\n",
    "        \"response\": \"My team effectively collaborates to achieve our goals and objectives.\"\n",
    "    },\n",
    "    {\n",
    "        \"prompt\": \"Generate an employee engagement question about recognition.\",\n",
    "        \"response\": \"I receive appropriate recognition when I do good work.\"\n",
    "    },\n",
    "    {\n",
    "        \"prompt\": \"Generate an employee engagement question about company values.\",\n",
    "        \"response\": \"Our company's values align with my personal values.\"\n",
    "    },\n",
    "    {\n",
    "        \"prompt\": \"Generate an employee engagement question about leadership trust.\",\n",
    "        \"response\": \"I trust the leadership of this organization to make good decisions for the company's future.\"\n",
    "    }\n",
    "]\n",
    "\n",
    "test_topics = [\n",
    "    \"diversity and inclusion\",\n",
    "    \"workplace facilities\",\n",
    "    \"compensation satisfaction\",\n",
    "    \"innovation opportunities\",\n",
    "    \"company communication\"\n",
    "]\n",
    "\n",
    "# New prompt to summarize\n",
    "prompt = f\"Generate: 'Generate an employee engagement question about compensation satisfaction'\"\n",
    "\n",
    "# Combine examples and prompt\n",
    "combined_prompt = \"\\n\\n\".join(few_shot_examples + [prompt])\n",
    "\n",
    "# Generate inputs\n",
    "inputs = tokenizer(combined_prompt, return_tensors=\"pt\", max_length=512, truncation=True, padding=True)\n",
    "\n",
    "# Generate outputs\n",
    "outputs = model.generate(inputs[\"input_ids\"], max_length=150, num_beams=5, early_stopping=True, num_return_sequences=3)\n",
    "\n",
    "# Decode and print the summary\n",
    "print(tokenizer.decode(outputs[0], skip_special_tokens=True))"
   ]
  }
 ],
 "metadata": {
  "language_info": {
   "name": "python"
  }
 },
 "nbformat": 4,
 "nbformat_minor": 5
}
